{
 "metadata": {
  "language_info": {
   "codemirror_mode": {
    "name": "ipython",
    "version": 3
   },
   "file_extension": ".py",
   "mimetype": "text/x-python",
   "name": "python",
   "nbconvert_exporter": "python",
   "pygments_lexer": "ipython3",
   "version": "3.8.2-final"
  },
  "orig_nbformat": 2,
  "kernelspec": {
   "name": "python_defaultSpec_1600368026811",
   "display_name": "Python 3.8.2 64-bit"
  }
 },
 "nbformat": 4,
 "nbformat_minor": 2,
 "cells": [
  {
   "cell_type": "code",
   "execution_count": 39,
   "metadata": {
    "tags": []
   },
   "outputs": [
    {
     "output_type": "stream",
     "name": "stdout",
     "text": "0 80\n"
    }
   ],
   "source": [
    "from django.utils.functional import cached_property\n",
    "import numpy\n",
    "\n",
    "class Bra:\n",
    "    size_columns = [\n",
    "        [80, [[76, 78], [79, 81], [82, 84], [85, 87], [88, 90], [91, 93]]],\n",
    "        [85, [[81, 83], [84, 86], [87, 89], [90, 92], [93, 95], [96, 98]]],\n",
    "        [90, [[86, 88], [89, 91], [92, 94], [95, 97], [98, 100], [101, 103]]],\n",
    "        [95, [[91, 93], [94, 96], [97, 99], [100, 102], [103, 105], [106, 108]]],\n",
    "        [100, [[99, 101], [102, 104], [105, 107], [108, 110], [111, 113]]]\n",
    "    ]\n",
    "\n",
    "    def calculate(self, bust, chest):\n",
    "        result = list(self._find_column(bust))\n",
    "        if not result:\n",
    "            return False\n",
    "\n",
    "        index, size = result[0]\n",
    "        if not size:\n",
    "            return False\n",
    "\n",
    "    def _find_row(self, index, chest):\n",
    "        converted_array = numpy.array(self.size_columns)\n",
    "        \n",
    "        \n",
    "    def _find_column(self, bust):\n",
    "        \"\"\"\n",
    "        Get the corresponding column from the size columns above\n",
    "        from the provided bust size\n",
    "\n",
    "        Result\n",
    "        ------\n",
    "\n",
    "            (index, [sizes, ...])\n",
    "        \"\"\"\n",
    "        # This represents a set of intervals against\n",
    "        # which we are going to compare the bust size\n",
    "        # and determine afterwards the corresponding\n",
    "        # bra size\n",
    "        bust_sizes = [\n",
    "            [63, 67],\n",
    "            [68, 72],\n",
    "            [73, 77],\n",
    "            [78, 82],\n",
    "            [83, 87]\n",
    "        ]\n",
    "\n",
    "        for i, values in enumerate(bust_sizes):\n",
    "            if self._compare(bust, values[0], values[1]):\n",
    "                yield i, self._sizes(i)\n",
    "\n",
    "    @staticmethod\n",
    "    def _compare(value, low, high):\n",
    "        return all([value >= low, value <= high])\n",
    "\n",
    "    def _sizes(self, index):\n",
    "        \"\"\"\n",
    "        Returns the corresonding bra from size columns based\n",
    "        on the the index that was provided from the intervals\n",
    "        \"\"\"\n",
    "        sizes = [size[0] for size in self.size_columns]\n",
    "        return sizes[index]\n",
    "\n",
    "bra = Bra()\n",
    "bra.calculate(63, 89)"
   ]
  },
  {
   "cell_type": "code",
   "execution_count": 132,
   "metadata": {
    "tags": []
   },
   "outputs": [
    {
     "output_type": "execute_result",
     "data": {
      "text/plain": "array([ 1.        ,  2.35714286,  3.71428571,  5.07142857,  6.42857143,\n        7.78571429,  9.14285714, 10.5       , 11.85714286, 13.21428571,\n       14.57142857, 15.92857143, 17.28571429, 18.64285714, 20.        ])"
     },
     "metadata": {},
     "execution_count": 132
    }
   ],
   "source": [
    "size_columns = [\n",
    "    [80, [[76, 78], [79, 81], [82, 84], [85, 87], [88, 90], [91, 93]]],\n",
    "    [85, [[81, 83], [84, 86], [87, 89], [90, 92], [93, 95], [96, 98]]],\n",
    "    [90, [[86, 88], [89, 91], [92, 94], [95, 97], [98, 100], [101, 103]]],\n",
    "    [95, [[91, 93], [94, 96], [97, 99], [100, 102], [103, 105], [106, 108]]],\n",
    "    [100, [[99, 101], [102, 104], [105, 107], [108, 110], [111, 113]]]\n",
    "]\n",
    "\n",
    "numpy.linspace(1, 20, 15)"
   ]
  },
  {
   "cell_type": "code",
   "execution_count": null,
   "metadata": {},
   "outputs": [],
   "source": []
  }
 ]
}