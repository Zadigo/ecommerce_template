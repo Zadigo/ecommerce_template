{
 "metadata": {
  "language_info": {
   "codemirror_mode": {
    "name": "ipython",
    "version": 3
   },
   "file_extension": ".py",
   "mimetype": "text/x-python",
   "name": "python",
   "nbconvert_exporter": "python",
   "pygments_lexer": "ipython3",
   "version": "3.8.2-final"
  },
  "orig_nbformat": 2,
  "kernelspec": {
   "name": "python_defaultSpec_1600459501365",
   "display_name": "Python 3.8.2 64-bit"
  }
 },
 "nbformat": 4,
 "nbformat_minor": 2,
 "cells": [
  {
   "cell_type": "code",
   "execution_count": 31,
   "metadata": {
    "tags": []
   },
   "outputs": [
    {
     "output_type": "execute_result",
     "data": {
      "text/plain": "{'google_analytics': 'UA-ARE4'}"
     },
     "metadata": {},
     "execution_count": 31
    }
   ],
   "source": [
    "import re\n",
    "\n",
    "class A(type):\n",
    "    def __new__(cls, name, bases, cls_dict):\n",
    "        new_class = super().__new__(cls, name, bases, cls_dict)\n",
    "        if bases:\n",
    "            context = {}\n",
    "            for key, value in cls_dict.items():\n",
    "                if not value.startswith('__'):\n",
    "                    context = {key: value}\n",
    "            setattr(new_class, 'context', context)\n",
    "        return new_class\n",
    "\n",
    "class W(metaclass=A):\n",
    "    google_analytics = None\n",
    "    google_tag_manager = None\n",
    "    google_optimize = None\n",
    "    intercom = None\n",
    "    facebook_analytics = None\n",
    "    mailchimp = None\n",
    "    pinterest = None\n",
    "\n",
    "    def __repr__(self):\n",
    "        return repr(self.context)\n",
    "\n",
    "    def __setattr__(self, name, value):\n",
    "        if name == 'google_analytics':\n",
    "            is_match = re.match(r'UA\\-[0-9]{8}\\-[0-9]{1}', value)\n",
    "            if is_match:\n",
    "                pass\n",
    "\n",
    "        if (name == 'google_tag_manager' or\n",
    "                name == 'google_optimize'):\n",
    "            is_match = re.match(r'GTM\\-[A-Z0-9]{7}')\n",
    "\n",
    "        return super().__setattr__(name, value)\n",
    "\n",
    "class T(W):\n",
    "    google_analytics = 'UA-ARE4'\n",
    "\n",
    "t = T()\n",
    "t"
   ]
  }
 ]
}