{
 "cells": [
  {
   "cell_type": "code",
   "execution_count": 1,
   "metadata": {},
   "outputs": [],
   "source": [
    "import os\n",
    "from django.db.models import Q, F, When, Case\n",
    "from django.db.models import Value, BooleanField, DecimalField"
   ]
  },
  {
   "cell_type": "code",
   "execution_count": 2,
   "metadata": {},
   "outputs": [],
   "source": [
    "os.environ['DJANGO_ALLOW_ASYNC_UNSAFE'] = 'true'"
   ]
  },
  {
   "cell_type": "markdown",
   "metadata": {},
   "source": [
    "# Carts"
   ]
  },
  {
   "cell_type": "code",
   "execution_count": 3,
   "metadata": {},
   "outputs": [],
   "source": [
    "from cart import models\n",
    "from shop import models as shop_models"
   ]
  },
  {
   "cell_type": "code",
   "execution_count": 4,
   "metadata": {},
   "outputs": [],
   "source": [
    "carts = models.Cart.objects.all()"
   ]
  },
  {
   "cell_type": "code",
   "execution_count": 5,
   "metadata": {},
   "outputs": [],
   "source": [
    "cart = carts.filter(cart_id=\"2020_9_13_de42d5c80c8a4bada51fcd02\")\n",
    "\n",
    "# Logic to use the discounted price of a product if its discounted\n",
    "# or its normal price if its not\n",
    "logic = (\n",
    "    Q(product__discounted_price__gt=0) & \n",
    "    Q(product__discounted=True)\n",
    ")\n",
    "\n",
    "condition = When(logic, then='product__discounted_price')\n",
    "queryset = cart.annotate(true_price=Case(condition, default='product__price_ht'))\n",
    "\n",
    "condition = When(true_price__gt=0, then=F('true_price') * F('quantity'))\n",
    "queryset = queryset.annotate(total=Case(condition, output_field=DecimalField()))"
   ]
  },
  {
   "cell_type": "markdown",
   "metadata": {},
   "source": [
    "## Adding an item to the cart"
   ]
  },
  {
   "cell_type": "code",
   "execution_count": 39,
   "metadata": {},
   "outputs": [],
   "source": [
    "cart_id = \"2020_9_15_cd4ec02a2517741db583a6f9\"\n",
    "\n",
    "quantity = 1\n",
    "color = \"Blanc\"\n",
    "size = None\n",
    "\n",
    "new_quantity = 1\n",
    "\n",
    "product = shop_models.Product.objects.first()\n",
    "\n",
    "# Test if the cart exists with the same product BUT not with the same color and size\n",
    "characteristics = (\n",
    "    Q(color=color) &\n",
    "    Q(size=size)\n",
    ")\n",
    "\n",
    "other = (\n",
    "    Q(product__id=product.id) & \n",
    "    Q(cart_id__iexact=cart_id)\n",
    ")\n",
    "\n",
    "logic = characteristics & other\n",
    "items = models.Cart.objects.filter(logic)\n",
    "if items.exists():\n",
    "    item = items.get()\n",
    "    item.price_ht = product.price_ht\n",
    "    item.product = product\n",
    "    item.color = color\n",
    "    item.size = size\n",
    "    item.quantity = F('quantity') + int(new_quantity)\n",
    "    item.anonymous = False\n",
    "    item.save()\n",
    "else:\n",
    "    details = {\n",
    "        'cart_id': cart_id,\n",
    "        'price_ht': product.get_price(),\n",
    "        'size': size,\n",
    "        'color': color,\n",
    "        'quantity': int(quantity),\n",
    "        'anonymous': True,\n",
    "        'product': product\n",
    "    }\n",
    "    models.Cart.objects.create(**details)"
   ]
  },
  {
   "cell_type": "markdown",
   "metadata": {},
   "source": [
    "# Impressions"
   ]
  },
  {
   "cell_type": "code",
   "execution_count": 20,
   "metadata": {},
   "outputs": [],
   "source": [
    "import json"
   ]
  },
  {
   "cell_type": "code",
   "execution_count": 42,
   "metadata": {},
   "outputs": [
    {
     "data": {
      "text/plain": [
       "'[{\"id\": \"ZL7025928032C1\", \"name\": \"Hailey Baldwin\", \"category\": \"Lingerie\", \"quantity\": \"3\", \"price\": \"62.40\", \"brand\": \"Nawoka\", \"position\": \"1\"}, {\"id\": \"FW479666FE1C5C\", \"name\": \"Kendall Jenner\", \"category\": \"Lingerie\", \"quantity\": \"1\", \"price\": \"35.00\", \"brand\": \"Nawoka\", \"position\": \"2\"}]'"
      ]
     },
     "execution_count": 42,
     "metadata": {},
     "output_type": "execute_result"
    }
   ],
   "source": [
    "def create_impressions(queryset, include_position=False):\n",
    "    impressions = list(\n",
    "        queryset.values(\n",
    "            'product__reference', \n",
    "            'product__name', \n",
    "            'product__collection__name', \n",
    "            'true_price', \n",
    "            'quantity'\n",
    "        )\n",
    "    )\n",
    "    fit_transformed = []\n",
    "    fit_values = {\n",
    "        'product__reference': 'id',\n",
    "        'product__name': 'name',\n",
    "        'product__collection__name': 'category',\n",
    "        'true_price': 'price',\n",
    "        'quantity': 'quantity',\n",
    "        'brand': 'brand',\n",
    "        'position': 'position'\n",
    "    }\n",
    "    for index, impression in enumerate(impressions, start=1):\n",
    "        new_values = {}\n",
    "        impression['brand'] = 'Nawoka'\n",
    "        if include_position:\n",
    "            impression['position'] = index\n",
    "        for key, value in impression.items():\n",
    "            new_values[fit_values[key]] = str(value)\n",
    "        fit_transformed.append(new_values)\n",
    "    return json.dumps(fit_transformed)\n",
    "\n",
    "create_impressions(queryset, include_position=True)"
   ]
  },
  {
   "cell_type": "code",
   "execution_count": 11,
   "metadata": {},
   "outputs": [],
   "source": [
    "from shop import models\n",
    "import re"
   ]
  },
  {
   "cell_type": "code",
   "execution_count": 12,
   "metadata": {},
   "outputs": [],
   "source": [
    "product = models.Product.objects.first()"
   ]
  },
  {
   "cell_type": "code",
   "execution_count": 40,
   "metadata": {},
   "outputs": [
    {
     "data": {
      "text/plain": [
       "{'name': 'price', 'func': 'get_price'}"
      ]
     },
     "execution_count": 40,
     "metadata": {},
     "output_type": "execute_result"
    }
   ],
   "source": [
    "s = 'price:get_price'\n",
    "re.match(r'^(?P<name>\\w+)\\:(?P<func>.*)$', s).groupdict()"
   ]
  },
  {
   "cell_type": "code",
   "execution_count": 43,
   "metadata": {},
   "outputs": [
    {
     "data": {
      "text/plain": [
       "[1, 2, 3, 6, 7]"
      ]
     },
     "execution_count": 43,
     "metadata": {},
     "output_type": "execute_result"
    }
   ],
   "source": []
  },
  {
   "cell_type": "code",
   "execution_count": null,
   "metadata": {},
   "outputs": [],
   "source": []
  }
 ],
 "metadata": {
  "kernelspec": {
   "display_name": "Django Shell-Plus",
   "language": "python",
   "name": "django_extensions"
  },
  "language_info": {
   "codemirror_mode": {
    "name": "ipython",
    "version": 3
   },
   "file_extension": ".py",
   "mimetype": "text/x-python",
   "name": "python",
   "nbconvert_exporter": "python",
   "pygments_lexer": "ipython3",
   "version": "3.8.2"
  }
 },
 "nbformat": 4,
 "nbformat_minor": 4
}
