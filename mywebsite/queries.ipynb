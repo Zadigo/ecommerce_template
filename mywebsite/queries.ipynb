{
 "cells": [
  {
   "cell_type": "code",
   "execution_count": 1,
   "metadata": {},
   "outputs": [],
   "source": [
    "import os\n",
    "from django.db.models import Q, F, When, Case\n",
    "from django.db.models import Value, BooleanField, DecimalField"
   ]
  },
  {
   "cell_type": "code",
   "execution_count": 2,
   "metadata": {},
   "outputs": [],
   "source": [
    "os.environ['DJANGO_ALLOW_ASYNC_UNSAFE'] = 'true'"
   ]
  },
  {
   "cell_type": "markdown",
   "metadata": {},
   "source": [
    "# Carts"
   ]
  },
  {
   "cell_type": "code",
   "execution_count": 3,
   "metadata": {},
   "outputs": [],
   "source": [
    "from cart import models\n",
    "from shop import models as shop_models"
   ]
  },
  {
   "cell_type": "code",
   "execution_count": 4,
   "metadata": {},
   "outputs": [],
   "source": [
    "carts = models.Cart.objects.all()"
   ]
  },
  {
   "cell_type": "code",
   "execution_count": 5,
   "metadata": {},
   "outputs": [],
   "source": [
    "cart = carts.filter(cart_id=\"2020_9_13_de42d5c80c8a4bada51fcd02\")\n",
    "\n",
    "# Logic to use the discounted price of a product if its discounted\n",
    "# or its normal price if its not\n",
    "logic = (\n",
    "    Q(product__discounted_price__gt=0) & \n",
    "    Q(product__discounted=True)\n",
    ")\n",
    "\n",
    "condition = When(logic, then='product__discounted_price')\n",
    "queryset = cart.annotate(true_price=Case(condition, default='product__price_ht'))\n",
    "\n",
    "condition = When(true_price__gt=0, then=F('true_price') * F('quantity'))\n",
    "queryset = queryset.annotate(total=Case(condition, output_field=DecimalField()))"
   ]
  },
  {
   "cell_type": "markdown",
   "metadata": {},
   "source": [
    "## Adding an item to the cart"
   ]
  },
  {
   "cell_type": "code",
   "execution_count": 39,
   "metadata": {},
   "outputs": [],
   "source": [
    "cart_id = \"2020_9_15_cd4ec02a2517741db583a6f9\"\n",
    "\n",
    "quantity = 1\n",
    "color = \"Blanc\"\n",
    "size = None\n",
    "\n",
    "new_quantity = 1\n",
    "\n",
    "product = shop_models.Product.objects.first()\n",
    "\n",
    "# Test if the cart exists with the same product BUT not with the same color and size\n",
    "characteristics = (\n",
    "    Q(color=color) &\n",
    "    Q(size=size)\n",
    ")\n",
    "\n",
    "other = (\n",
    "    Q(product__id=product.id) & \n",
    "    Q(cart_id__iexact=cart_id)\n",
    ")\n",
    "\n",
    "logic = characteristics & other\n",
    "items = models.Cart.objects.filter(logic)\n",
    "if items.exists():\n",
    "    item = items.get()\n",
    "    item.price_ht = product.price_ht\n",
    "    item.product = product\n",
    "    item.color = color\n",
    "    item.size = size\n",
    "    item.quantity = F('quantity') + int(new_quantity)\n",
    "    item.anonymous = False\n",
    "    item.save()\n",
    "else:\n",
    "    details = {\n",
    "        'cart_id': cart_id,\n",
    "        'price_ht': product.get_price(),\n",
    "        'size': size,\n",
    "        'color': color,\n",
    "        'quantity': int(quantity),\n",
    "        'anonymous': True,\n",
    "        'product': product\n",
    "    }\n",
    "    models.Cart.objects.create(**details)"
   ]
  },
  {
   "cell_type": "markdown",
   "metadata": {},
   "source": [
    "# Impressions"
   ]
  },
  {
   "cell_type": "code",
   "execution_count": 20,
   "metadata": {},
   "outputs": [],
   "source": [
    "import json"
   ]
  },
  {
   "cell_type": "code",
   "execution_count": 42,
   "metadata": {},
   "outputs": [
    {
     "data": {
      "text/plain": [
       "'[{\"id\": \"ZL7025928032C1\", \"name\": \"Hailey Baldwin\", \"category\": \"Lingerie\", \"quantity\": \"3\", \"price\": \"62.40\", \"brand\": \"Nawoka\", \"position\": \"1\"}, {\"id\": \"FW479666FE1C5C\", \"name\": \"Kendall Jenner\", \"category\": \"Lingerie\", \"quantity\": \"1\", \"price\": \"35.00\", \"brand\": \"Nawoka\", \"position\": \"2\"}]'"
      ]
     },
     "execution_count": 42,
     "metadata": {},
     "output_type": "execute_result"
    }
   ],
   "source": [
    "def create_impressions(queryset, include_position=False):\n",
    "    impressions = list(\n",
    "        queryset.values(\n",
    "            'product__reference', \n",
    "            'product__name', \n",
    "            'product__collection__name', \n",
    "            'true_price', \n",
    "            'quantity'\n",
    "        )\n",
    "    )\n",
    "    fit_transformed = []\n",
    "    fit_values = {\n",
    "        'product__reference': 'id',\n",
    "        'product__name': 'name',\n",
    "        'product__collection__name': 'category',\n",
    "        'true_price': 'price',\n",
    "        'quantity': 'quantity',\n",
    "        'brand': 'brand',\n",
    "        'position': 'position'\n",
    "    }\n",
    "    for index, impression in enumerate(impressions, start=1):\n",
    "        new_values = {}\n",
    "        impression['brand'] = 'Nawoka'\n",
    "        if include_position:\n",
    "            impression['position'] = index\n",
    "        for key, value in impression.items():\n",
    "            new_values[fit_values[key]] = str(value)\n",
    "        fit_transformed.append(new_values)\n",
    "    return json.dumps(fit_transformed)\n",
    "\n",
    "create_impressions(queryset, include_position=True)"
   ]
  },
  {
   "cell_type": "code",
   "execution_count": 11,
   "metadata": {},
   "outputs": [],
   "source": [
    "from shop import models\n",
    "import re"
   ]
  },
  {
   "cell_type": "code",
   "execution_count": 12,
   "metadata": {},
   "outputs": [],
   "source": [
    "product = models.Product.objects.first()"
   ]
  },
  {
   "cell_type": "code",
   "execution_count": 40,
   "metadata": {},
   "outputs": [
    {
     "data": {
      "text/plain": [
       "{'name': 'price', 'func': 'get_price'}"
      ]
     },
     "execution_count": 40,
     "metadata": {},
     "output_type": "execute_result"
    }
   ],
   "source": [
    "s = 'price:get_price'\n",
    "re.match(r'^(?P<name>\\w+)\\:(?P<func>.*)$', s).groupdict()"
   ]
  },
  {
   "cell_type": "code",
   "execution_count": 43,
   "metadata": {},
   "outputs": [
    {
     "data": {
      "text/plain": [
       "[1, 2, 3, 6, 7]"
      ]
     },
     "execution_count": 43,
     "metadata": {},
     "output_type": "execute_result"
    }
   ],
   "source": []
  },
  {
   "cell_type": "code",
   "execution_count": 6,
   "metadata": {},
   "outputs": [
    {
     "ename": "FieldError",
     "evalue": "Cannot resolve keyword 'product' into field. Choices are: active, cart, collection, collection_id, created_on, description, description_html, description_objects, discount, discount_pct, discounted, discounted_price, gender, google_category, id, images, in_stock, last_modified, like, lookbook, name, our_favorite, price_pre_tax, price_valid_until, private, quantity, reference, review, sku, slug, to_be_published_on, variant",
     "output_type": "error",
     "traceback": [
      "\u001b[1;31m--------------------------------------------------------------------\u001b[0m",
      "\u001b[1;31mFieldError\u001b[0m                         Traceback (most recent call last)",
      "\u001b[1;32m<ipython-input-6-b8237b7f470d>\u001b[0m in \u001b[0;36m<module>\u001b[1;34m\u001b[0m\n\u001b[1;32m----> 1\u001b[1;33m \u001b[0mProduct\u001b[0m\u001b[1;33m.\u001b[0m\u001b[0mobjects\u001b[0m\u001b[1;33m.\u001b[0m\u001b[0mvalues\u001b[0m\u001b[1;33m(\u001b[0m\u001b[1;34m'product__get_absolute_url'\u001b[0m\u001b[1;33m)\u001b[0m\u001b[1;33m\u001b[0m\u001b[1;33m\u001b[0m\u001b[0m\n\u001b[0m",
      "\u001b[1;32m~\\AppData\\Roaming\\Python\\Python38\\site-packages\\django\\db\\models\\manager.py\u001b[0m in \u001b[0;36mmanager_method\u001b[1;34m(self, *args, **kwargs)\u001b[0m\n\u001b[0;32m     83\u001b[0m         \u001b[1;32mdef\u001b[0m \u001b[0mcreate_method\u001b[0m\u001b[1;33m(\u001b[0m\u001b[0mname\u001b[0m\u001b[1;33m,\u001b[0m \u001b[0mmethod\u001b[0m\u001b[1;33m)\u001b[0m\u001b[1;33m:\u001b[0m\u001b[1;33m\u001b[0m\u001b[1;33m\u001b[0m\u001b[0m\n\u001b[0;32m     84\u001b[0m             \u001b[1;32mdef\u001b[0m \u001b[0mmanager_method\u001b[0m\u001b[1;33m(\u001b[0m\u001b[0mself\u001b[0m\u001b[1;33m,\u001b[0m \u001b[1;33m*\u001b[0m\u001b[0margs\u001b[0m\u001b[1;33m,\u001b[0m \u001b[1;33m**\u001b[0m\u001b[0mkwargs\u001b[0m\u001b[1;33m)\u001b[0m\u001b[1;33m:\u001b[0m\u001b[1;33m\u001b[0m\u001b[1;33m\u001b[0m\u001b[0m\n\u001b[1;32m---> 85\u001b[1;33m                 \u001b[1;32mreturn\u001b[0m \u001b[0mgetattr\u001b[0m\u001b[1;33m(\u001b[0m\u001b[0mself\u001b[0m\u001b[1;33m.\u001b[0m\u001b[0mget_queryset\u001b[0m\u001b[1;33m(\u001b[0m\u001b[1;33m)\u001b[0m\u001b[1;33m,\u001b[0m \u001b[0mname\u001b[0m\u001b[1;33m)\u001b[0m\u001b[1;33m(\u001b[0m\u001b[1;33m*\u001b[0m\u001b[0margs\u001b[0m\u001b[1;33m,\u001b[0m \u001b[1;33m**\u001b[0m\u001b[0mkwargs\u001b[0m\u001b[1;33m)\u001b[0m\u001b[1;33m\u001b[0m\u001b[1;33m\u001b[0m\u001b[0m\n\u001b[0m\u001b[0;32m     86\u001b[0m             \u001b[0mmanager_method\u001b[0m\u001b[1;33m.\u001b[0m\u001b[0m__name__\u001b[0m \u001b[1;33m=\u001b[0m \u001b[0mmethod\u001b[0m\u001b[1;33m.\u001b[0m\u001b[0m__name__\u001b[0m\u001b[1;33m\u001b[0m\u001b[1;33m\u001b[0m\u001b[0m\n\u001b[0;32m     87\u001b[0m             \u001b[0mmanager_method\u001b[0m\u001b[1;33m.\u001b[0m\u001b[0m__doc__\u001b[0m \u001b[1;33m=\u001b[0m \u001b[0mmethod\u001b[0m\u001b[1;33m.\u001b[0m\u001b[0m__doc__\u001b[0m\u001b[1;33m\u001b[0m\u001b[1;33m\u001b[0m\u001b[0m\n",
      "\u001b[1;32m~\\AppData\\Roaming\\Python\\Python38\\site-packages\\django\\db\\models\\query.py\u001b[0m in \u001b[0;36mvalues\u001b[1;34m(self, *fields, **expressions)\u001b[0m\n\u001b[0;32m    839\u001b[0m     \u001b[1;32mdef\u001b[0m \u001b[0mvalues\u001b[0m\u001b[1;33m(\u001b[0m\u001b[0mself\u001b[0m\u001b[1;33m,\u001b[0m \u001b[1;33m*\u001b[0m\u001b[0mfields\u001b[0m\u001b[1;33m,\u001b[0m \u001b[1;33m**\u001b[0m\u001b[0mexpressions\u001b[0m\u001b[1;33m)\u001b[0m\u001b[1;33m:\u001b[0m\u001b[1;33m\u001b[0m\u001b[1;33m\u001b[0m\u001b[0m\n\u001b[0;32m    840\u001b[0m         \u001b[0mfields\u001b[0m \u001b[1;33m+=\u001b[0m \u001b[0mtuple\u001b[0m\u001b[1;33m(\u001b[0m\u001b[0mexpressions\u001b[0m\u001b[1;33m)\u001b[0m\u001b[1;33m\u001b[0m\u001b[1;33m\u001b[0m\u001b[0m\n\u001b[1;32m--> 841\u001b[1;33m         \u001b[0mclone\u001b[0m \u001b[1;33m=\u001b[0m \u001b[0mself\u001b[0m\u001b[1;33m.\u001b[0m\u001b[0m_values\u001b[0m\u001b[1;33m(\u001b[0m\u001b[1;33m*\u001b[0m\u001b[0mfields\u001b[0m\u001b[1;33m,\u001b[0m \u001b[1;33m**\u001b[0m\u001b[0mexpressions\u001b[0m\u001b[1;33m)\u001b[0m\u001b[1;33m\u001b[0m\u001b[1;33m\u001b[0m\u001b[0m\n\u001b[0m\u001b[0;32m    842\u001b[0m         \u001b[0mclone\u001b[0m\u001b[1;33m.\u001b[0m\u001b[0m_iterable_class\u001b[0m \u001b[1;33m=\u001b[0m \u001b[0mValuesIterable\u001b[0m\u001b[1;33m\u001b[0m\u001b[1;33m\u001b[0m\u001b[0m\n\u001b[0;32m    843\u001b[0m         \u001b[1;32mreturn\u001b[0m \u001b[0mclone\u001b[0m\u001b[1;33m\u001b[0m\u001b[1;33m\u001b[0m\u001b[0m\n",
      "\u001b[1;32m~\\AppData\\Roaming\\Python\\Python38\\site-packages\\django\\db\\models\\query.py\u001b[0m in \u001b[0;36m_values\u001b[1;34m(self, *fields, **expressions)\u001b[0m\n\u001b[0;32m    834\u001b[0m             \u001b[0mclone\u001b[0m \u001b[1;33m=\u001b[0m \u001b[0mclone\u001b[0m\u001b[1;33m.\u001b[0m\u001b[0mannotate\u001b[0m\u001b[1;33m(\u001b[0m\u001b[1;33m**\u001b[0m\u001b[0mexpressions\u001b[0m\u001b[1;33m)\u001b[0m\u001b[1;33m\u001b[0m\u001b[1;33m\u001b[0m\u001b[0m\n\u001b[0;32m    835\u001b[0m         \u001b[0mclone\u001b[0m\u001b[1;33m.\u001b[0m\u001b[0m_fields\u001b[0m \u001b[1;33m=\u001b[0m \u001b[0mfields\u001b[0m\u001b[1;33m\u001b[0m\u001b[1;33m\u001b[0m\u001b[0m\n\u001b[1;32m--> 836\u001b[1;33m         \u001b[0mclone\u001b[0m\u001b[1;33m.\u001b[0m\u001b[0mquery\u001b[0m\u001b[1;33m.\u001b[0m\u001b[0mset_values\u001b[0m\u001b[1;33m(\u001b[0m\u001b[0mfields\u001b[0m\u001b[1;33m)\u001b[0m\u001b[1;33m\u001b[0m\u001b[1;33m\u001b[0m\u001b[0m\n\u001b[0m\u001b[0;32m    837\u001b[0m         \u001b[1;32mreturn\u001b[0m \u001b[0mclone\u001b[0m\u001b[1;33m\u001b[0m\u001b[1;33m\u001b[0m\u001b[0m\n\u001b[0;32m    838\u001b[0m \u001b[1;33m\u001b[0m\u001b[0m\n",
      "\u001b[1;32m~\\AppData\\Roaming\\Python\\Python38\\site-packages\\django\\db\\models\\sql\\query.py\u001b[0m in \u001b[0;36mset_values\u001b[1;34m(self, fields)\u001b[0m\n\u001b[0;32m   2170\u001b[0m \u001b[1;33m\u001b[0m\u001b[0m\n\u001b[0;32m   2171\u001b[0m         \u001b[0mself\u001b[0m\u001b[1;33m.\u001b[0m\u001b[0mvalues_select\u001b[0m \u001b[1;33m=\u001b[0m \u001b[0mtuple\u001b[0m\u001b[1;33m(\u001b[0m\u001b[0mfield_names\u001b[0m\u001b[1;33m)\u001b[0m\u001b[1;33m\u001b[0m\u001b[1;33m\u001b[0m\u001b[0m\n\u001b[1;32m-> 2172\u001b[1;33m         \u001b[0mself\u001b[0m\u001b[1;33m.\u001b[0m\u001b[0madd_fields\u001b[0m\u001b[1;33m(\u001b[0m\u001b[0mfield_names\u001b[0m\u001b[1;33m,\u001b[0m \u001b[1;32mTrue\u001b[0m\u001b[1;33m)\u001b[0m\u001b[1;33m\u001b[0m\u001b[1;33m\u001b[0m\u001b[0m\n\u001b[0m\u001b[0;32m   2173\u001b[0m \u001b[1;33m\u001b[0m\u001b[0m\n\u001b[0;32m   2174\u001b[0m     \u001b[1;33m@\u001b[0m\u001b[0mproperty\u001b[0m\u001b[1;33m\u001b[0m\u001b[1;33m\u001b[0m\u001b[0m\n",
      "\u001b[1;32m~\\AppData\\Roaming\\Python\\Python38\\site-packages\\django\\db\\models\\sql\\query.py\u001b[0m in \u001b[0;36madd_fields\u001b[1;34m(self, field_names, allow_m2m)\u001b[0m\n\u001b[0;32m   1861\u001b[0m                 \u001b[1;31m# Join promotion note - we must not remove any rows here, so\u001b[0m\u001b[1;33m\u001b[0m\u001b[1;33m\u001b[0m\u001b[1;33m\u001b[0m\u001b[0m\n\u001b[0;32m   1862\u001b[0m                 \u001b[1;31m# if there is no existing joins, use outer join.\u001b[0m\u001b[1;33m\u001b[0m\u001b[1;33m\u001b[0m\u001b[1;33m\u001b[0m\u001b[0m\n\u001b[1;32m-> 1863\u001b[1;33m                 \u001b[0mjoin_info\u001b[0m \u001b[1;33m=\u001b[0m \u001b[0mself\u001b[0m\u001b[1;33m.\u001b[0m\u001b[0msetup_joins\u001b[0m\u001b[1;33m(\u001b[0m\u001b[0mname\u001b[0m\u001b[1;33m.\u001b[0m\u001b[0msplit\u001b[0m\u001b[1;33m(\u001b[0m\u001b[0mLOOKUP_SEP\u001b[0m\u001b[1;33m)\u001b[0m\u001b[1;33m,\u001b[0m \u001b[0mopts\u001b[0m\u001b[1;33m,\u001b[0m \u001b[0malias\u001b[0m\u001b[1;33m,\u001b[0m \u001b[0mallow_many\u001b[0m\u001b[1;33m=\u001b[0m\u001b[0mallow_m2m\u001b[0m\u001b[1;33m)\u001b[0m\u001b[1;33m\u001b[0m\u001b[1;33m\u001b[0m\u001b[0m\n\u001b[0m\u001b[0;32m   1864\u001b[0m                 targets, final_alias, joins = self.trim_joins(\n\u001b[0;32m   1865\u001b[0m                     \u001b[0mjoin_info\u001b[0m\u001b[1;33m.\u001b[0m\u001b[0mtargets\u001b[0m\u001b[1;33m,\u001b[0m\u001b[1;33m\u001b[0m\u001b[1;33m\u001b[0m\u001b[0m\n",
      "\u001b[1;32m~\\AppData\\Roaming\\Python\\Python38\\site-packages\\django\\db\\models\\sql\\query.py\u001b[0m in \u001b[0;36msetup_joins\u001b[1;34m(self, names, opts, alias, can_reuse, allow_many, reuse_with_filtered_relation)\u001b[0m\n\u001b[0;32m   1563\u001b[0m         \u001b[1;32mfor\u001b[0m \u001b[0mpivot\u001b[0m \u001b[1;32min\u001b[0m \u001b[0mrange\u001b[0m\u001b[1;33m(\u001b[0m\u001b[0mlen\u001b[0m\u001b[1;33m(\u001b[0m\u001b[0mnames\u001b[0m\u001b[1;33m)\u001b[0m\u001b[1;33m,\u001b[0m \u001b[1;36m0\u001b[0m\u001b[1;33m,\u001b[0m \u001b[1;33m-\u001b[0m\u001b[1;36m1\u001b[0m\u001b[1;33m)\u001b[0m\u001b[1;33m:\u001b[0m\u001b[1;33m\u001b[0m\u001b[1;33m\u001b[0m\u001b[0m\n\u001b[0;32m   1564\u001b[0m             \u001b[1;32mtry\u001b[0m\u001b[1;33m:\u001b[0m\u001b[1;33m\u001b[0m\u001b[1;33m\u001b[0m\u001b[0m\n\u001b[1;32m-> 1565\u001b[1;33m                 path, final_field, targets, rest = self.names_to_path(\n\u001b[0m\u001b[0;32m   1566\u001b[0m                     \u001b[0mnames\u001b[0m\u001b[1;33m[\u001b[0m\u001b[1;33m:\u001b[0m\u001b[0mpivot\u001b[0m\u001b[1;33m]\u001b[0m\u001b[1;33m,\u001b[0m \u001b[0mopts\u001b[0m\u001b[1;33m,\u001b[0m \u001b[0mallow_many\u001b[0m\u001b[1;33m,\u001b[0m \u001b[0mfail_on_missing\u001b[0m\u001b[1;33m=\u001b[0m\u001b[1;32mTrue\u001b[0m\u001b[1;33m,\u001b[0m\u001b[1;33m\u001b[0m\u001b[1;33m\u001b[0m\u001b[0m\n\u001b[0;32m   1567\u001b[0m                 )\n",
      "\u001b[1;32m~\\AppData\\Roaming\\Python\\Python38\\site-packages\\django\\db\\models\\sql\\query.py\u001b[0m in \u001b[0;36mnames_to_path\u001b[1;34m(self, names, opts, allow_many, fail_on_missing)\u001b[0m\n\u001b[0;32m   1479\u001b[0m                         \u001b[1;33m*\u001b[0m\u001b[0mself\u001b[0m\u001b[1;33m.\u001b[0m\u001b[0m_filtered_relations\u001b[0m\u001b[1;33m,\u001b[0m\u001b[1;33m\u001b[0m\u001b[1;33m\u001b[0m\u001b[0m\n\u001b[0;32m   1480\u001b[0m                     ])\n\u001b[1;32m-> 1481\u001b[1;33m                     raise FieldError(\"Cannot resolve keyword '%s' into field. \"\n\u001b[0m\u001b[0;32m   1482\u001b[0m                                      \"Choices are: %s\" % (name, \", \".join(available)))\n\u001b[0;32m   1483\u001b[0m                 \u001b[1;32mbreak\u001b[0m\u001b[1;33m\u001b[0m\u001b[1;33m\u001b[0m\u001b[0m\n",
      "\u001b[1;31mFieldError\u001b[0m: Cannot resolve keyword 'product' into field. Choices are: active, cart, collection, collection_id, created_on, description, description_html, description_objects, discount, discount_pct, discounted, discounted_price, gender, google_category, id, images, in_stock, last_modified, like, lookbook, name, our_favorite, price_pre_tax, price_valid_until, private, quantity, reference, review, sku, slug, to_be_published_on, variant"
     ]
    }
   ],
   "source": [
    "Product.objects.values('product__get_absolute_url')"
   ]
  },
  {
   "cell_type": "code",
   "execution_count": null,
   "metadata": {},
   "outputs": [],
   "source": []
  }
 ],
 "metadata": {
  "kernelspec": {
   "display_name": "Django Shell-Plus",
   "language": "python",
   "name": "django_extensions"
  },
  "language_info": {
   "codemirror_mode": {
    "name": "ipython",
    "version": 3
   },
   "file_extension": ".py",
   "mimetype": "text/x-python",
   "name": "python",
   "nbconvert_exporter": "python",
   "pygments_lexer": "ipython3",
   "version": "3.8.2"
  }
 },
 "nbformat": 4,
 "nbformat_minor": 4
}
